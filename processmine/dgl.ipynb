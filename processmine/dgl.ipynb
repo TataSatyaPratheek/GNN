{
 "cells": [
  {
   "cell_type": "code",
   "execution_count": 1,
   "metadata": {},
   "outputs": [],
   "source": [
    "import os\n",
    "\n",
    "os.environ[\"DGLBACKEND\"] = \"pytorch\"\n",
    "import dgl\n",
    "import dgl.data\n",
    "import torch\n",
    "import torch.nn as nn\n",
    "import torch.nn.functional as F"
   ]
  },
  {
   "cell_type": "code",
   "execution_count": 2,
   "metadata": {},
   "outputs": [
    {
     "name": "stdout",
     "output_type": "stream",
     "text": [
      "Downloading /home/vi/.dgl/cora_v2.zip from https://data.dgl.ai/dataset/cora_v2.zip...\n"
     ]
    },
    {
     "data": {
      "application/vnd.jupyter.widget-view+json": {
       "model_id": "0f6f33bffbbd41138b43ce3ccb96ee32",
       "version_major": 2,
       "version_minor": 0
      },
      "text/plain": [
       "/home/vi/.dgl/cora_v2.zip:   0%|          | 0.00/132k [00:00<?, ?B/s]"
      ]
     },
     "metadata": {},
     "output_type": "display_data"
    },
    {
     "name": "stdout",
     "output_type": "stream",
     "text": [
      "Extracting file to /home/vi/.dgl/cora_v2_d697a464\n",
      "Finished data loading and preprocessing.\n",
      "  NumNodes: 2708\n",
      "  NumEdges: 10556\n",
      "  NumFeats: 1433\n",
      "  NumClasses: 7\n",
      "  NumTrainingSamples: 140\n",
      "  NumValidationSamples: 500\n",
      "  NumTestSamples: 1000\n",
      "Done saving data into cached files.\n",
      "Number of categories: 7\n"
     ]
    }
   ],
   "source": [
    "dataset = dgl.data.CoraGraphDataset()\n",
    "print(f\"Number of categories: {dataset.num_classes}\")"
   ]
  },
  {
   "cell_type": "code",
   "execution_count": 3,
   "metadata": {},
   "outputs": [],
   "source": [
    "g = dataset[0]"
   ]
  },
  {
   "cell_type": "code",
   "execution_count": 4,
   "metadata": {},
   "outputs": [
    {
     "name": "stdout",
     "output_type": "stream",
     "text": [
      "Node features\n",
      "{'train_mask': tensor([ True,  True,  True,  ..., False, False, False]), 'val_mask': tensor([False, False, False,  ..., False, False, False]), 'test_mask': tensor([False, False, False,  ...,  True,  True,  True]), 'label': tensor([3, 4, 4,  ..., 3, 3, 3]), 'feat': tensor([[0., 0., 0.,  ..., 0., 0., 0.],\n",
      "        [0., 0., 0.,  ..., 0., 0., 0.],\n",
      "        [0., 0., 0.,  ..., 0., 0., 0.],\n",
      "        ...,\n",
      "        [0., 0., 0.,  ..., 0., 0., 0.],\n",
      "        [0., 0., 0.,  ..., 0., 0., 0.],\n",
      "        [0., 0., 0.,  ..., 0., 0., 0.]])}\n",
      "Edge features\n",
      "{}\n"
     ]
    }
   ],
   "source": [
    "print(\"Node features\")\n",
    "print(g.ndata)\n",
    "print(\"Edge features\")\n",
    "print(g.edata)"
   ]
  },
  {
   "cell_type": "code",
   "execution_count": 5,
   "metadata": {},
   "outputs": [],
   "source": [
    "from dgl.nn import GraphConv\n",
    "\n",
    "\n",
    "class GCN(nn.Module):\n",
    "    def __init__(self, in_feats, h_feats, num_classes):\n",
    "        super(GCN, self).__init__()\n",
    "        self.conv1 = GraphConv(in_feats, h_feats)\n",
    "        self.conv2 = GraphConv(h_feats, num_classes)\n",
    "\n",
    "    def forward(self, g, in_feat):\n",
    "        h = self.conv1(g, in_feat)\n",
    "        h = F.relu(h)\n",
    "        h = self.conv2(g, h)\n",
    "        return h\n",
    "\n",
    "\n",
    "# Create the model with given dimensions\n",
    "model = GCN(g.ndata[\"feat\"].shape[1], 16, dataset.num_classes)"
   ]
  },
  {
   "cell_type": "code",
   "execution_count": 6,
   "metadata": {},
   "outputs": [
    {
     "name": "stdout",
     "output_type": "stream",
     "text": [
      "In epoch 0, loss: 1.946, val acc: 0.122 (best 0.122), test acc: 0.130 (best 0.130)\n",
      "In epoch 5, loss: 1.879, val acc: 0.520 (best 0.520), test acc: 0.550 (best 0.550)\n",
      "In epoch 10, loss: 1.785, val acc: 0.532 (best 0.532), test acc: 0.584 (best 0.577)\n",
      "In epoch 15, loss: 1.667, val acc: 0.620 (best 0.620), test acc: 0.648 (best 0.648)\n",
      "In epoch 20, loss: 1.527, val acc: 0.674 (best 0.674), test acc: 0.678 (best 0.678)\n",
      "In epoch 25, loss: 1.368, val acc: 0.718 (best 0.718), test acc: 0.718 (best 0.718)\n",
      "In epoch 30, loss: 1.197, val acc: 0.732 (best 0.732), test acc: 0.737 (best 0.737)\n",
      "In epoch 35, loss: 1.022, val acc: 0.744 (best 0.744), test acc: 0.760 (best 0.760)\n",
      "In epoch 40, loss: 0.853, val acc: 0.750 (best 0.750), test acc: 0.767 (best 0.767)\n",
      "In epoch 45, loss: 0.699, val acc: 0.750 (best 0.752), test acc: 0.775 (best 0.773)\n",
      "In epoch 50, loss: 0.566, val acc: 0.754 (best 0.754), test acc: 0.782 (best 0.778)\n",
      "In epoch 55, loss: 0.456, val acc: 0.756 (best 0.756), test acc: 0.779 (best 0.781)\n",
      "In epoch 60, loss: 0.367, val acc: 0.766 (best 0.766), test acc: 0.781 (best 0.782)\n",
      "In epoch 65, loss: 0.297, val acc: 0.768 (best 0.768), test acc: 0.778 (best 0.779)\n",
      "In epoch 70, loss: 0.242, val acc: 0.766 (best 0.768), test acc: 0.782 (best 0.779)\n",
      "In epoch 75, loss: 0.199, val acc: 0.770 (best 0.770), test acc: 0.782 (best 0.781)\n",
      "In epoch 80, loss: 0.165, val acc: 0.772 (best 0.772), test acc: 0.783 (best 0.783)\n",
      "In epoch 85, loss: 0.139, val acc: 0.770 (best 0.772), test acc: 0.782 (best 0.783)\n",
      "In epoch 90, loss: 0.118, val acc: 0.774 (best 0.774), test acc: 0.784 (best 0.785)\n",
      "In epoch 95, loss: 0.101, val acc: 0.770 (best 0.774), test acc: 0.785 (best 0.785)\n"
     ]
    }
   ],
   "source": [
    "def train(g, model):\n",
    "    optimizer = torch.optim.Adam(model.parameters(), lr=0.01)\n",
    "    best_val_acc = 0\n",
    "    best_test_acc = 0\n",
    "\n",
    "    features = g.ndata[\"feat\"]\n",
    "    labels = g.ndata[\"label\"]\n",
    "    train_mask = g.ndata[\"train_mask\"]\n",
    "    val_mask = g.ndata[\"val_mask\"]\n",
    "    test_mask = g.ndata[\"test_mask\"]\n",
    "    for e in range(100):\n",
    "        # Forward\n",
    "        logits = model(g, features)\n",
    "\n",
    "        # Compute prediction\n",
    "        pred = logits.argmax(1)\n",
    "\n",
    "        # Compute loss\n",
    "        # Note that you should only compute the losses of the nodes in the training set.\n",
    "        loss = F.cross_entropy(logits[train_mask], labels[train_mask])\n",
    "\n",
    "        # Compute accuracy on training/validation/test\n",
    "        train_acc = (pred[train_mask] == labels[train_mask]).float().mean()\n",
    "        val_acc = (pred[val_mask] == labels[val_mask]).float().mean()\n",
    "        test_acc = (pred[test_mask] == labels[test_mask]).float().mean()\n",
    "\n",
    "        # Save the best validation accuracy and the corresponding test accuracy.\n",
    "        if best_val_acc < val_acc:\n",
    "            best_val_acc = val_acc\n",
    "            best_test_acc = test_acc\n",
    "\n",
    "        # Backward\n",
    "        optimizer.zero_grad()\n",
    "        loss.backward()\n",
    "        optimizer.step()\n",
    "\n",
    "        if e % 5 == 0:\n",
    "            print(\n",
    "                f\"In epoch {e}, loss: {loss:.3f}, val acc: {val_acc:.3f} (best {best_val_acc:.3f}), test acc: {test_acc:.3f} (best {best_test_acc:.3f})\"\n",
    "            )\n",
    "\n",
    "\n",
    "model = GCN(g.ndata[\"feat\"].shape[1], 16, dataset.num_classes)\n",
    "train(g, model)"
   ]
  },
  {
   "cell_type": "code",
   "execution_count": 7,
   "metadata": {},
   "outputs": [
    {
     "name": "stdout",
     "output_type": "stream",
     "text": [
      "In epoch 0, loss: 1.945, val acc: 0.214 (best 0.214), test acc: 0.212 (best 0.212)\n",
      "In epoch 5, loss: 1.892, val acc: 0.550 (best 0.550), test acc: 0.564 (best 0.564)\n",
      "In epoch 10, loss: 1.812, val acc: 0.560 (best 0.560), test acc: 0.602 (best 0.602)\n",
      "In epoch 15, loss: 1.708, val acc: 0.692 (best 0.692), test acc: 0.706 (best 0.706)\n",
      "In epoch 20, loss: 1.581, val acc: 0.726 (best 0.726), test acc: 0.728 (best 0.728)\n",
      "In epoch 25, loss: 1.435, val acc: 0.724 (best 0.726), test acc: 0.737 (best 0.728)\n",
      "In epoch 30, loss: 1.274, val acc: 0.726 (best 0.726), test acc: 0.746 (best 0.728)\n",
      "In epoch 35, loss: 1.107, val acc: 0.724 (best 0.726), test acc: 0.752 (best 0.728)\n",
      "In epoch 40, loss: 0.942, val acc: 0.726 (best 0.726), test acc: 0.755 (best 0.728)\n",
      "In epoch 45, loss: 0.787, val acc: 0.736 (best 0.736), test acc: 0.761 (best 0.761)\n",
      "In epoch 50, loss: 0.647, val acc: 0.742 (best 0.742), test acc: 0.763 (best 0.760)\n",
      "In epoch 55, loss: 0.527, val acc: 0.756 (best 0.756), test acc: 0.768 (best 0.768)\n",
      "In epoch 60, loss: 0.426, val acc: 0.766 (best 0.766), test acc: 0.770 (best 0.770)\n",
      "In epoch 65, loss: 0.344, val acc: 0.772 (best 0.772), test acc: 0.770 (best 0.770)\n",
      "In epoch 70, loss: 0.279, val acc: 0.768 (best 0.772), test acc: 0.772 (best 0.770)\n",
      "In epoch 75, loss: 0.228, val acc: 0.772 (best 0.780), test acc: 0.772 (best 0.774)\n",
      "In epoch 80, loss: 0.188, val acc: 0.772 (best 0.780), test acc: 0.773 (best 0.774)\n",
      "In epoch 85, loss: 0.156, val acc: 0.772 (best 0.780), test acc: 0.777 (best 0.774)\n",
      "In epoch 90, loss: 0.132, val acc: 0.776 (best 0.780), test acc: 0.774 (best 0.774)\n",
      "In epoch 95, loss: 0.112, val acc: 0.776 (best 0.780), test acc: 0.771 (best 0.774)\n"
     ]
    }
   ],
   "source": [
    "g = g.to('cuda')\n",
    "model = GCN(g.ndata['feat'].shape[1], 16, dataset.num_classes).to('cuda')\n",
    "train(g, model)"
   ]
  },
  {
   "cell_type": "code",
   "execution_count": null,
   "metadata": {},
   "outputs": [],
   "source": []
  },
  {
   "cell_type": "code",
   "execution_count": null,
   "metadata": {},
   "outputs": [],
   "source": []
  },
  {
   "cell_type": "code",
   "execution_count": null,
   "metadata": {},
   "outputs": [],
   "source": []
  },
  {
   "cell_type": "code",
   "execution_count": null,
   "metadata": {},
   "outputs": [],
   "source": []
  },
  {
   "cell_type": "code",
   "execution_count": null,
   "metadata": {},
   "outputs": [],
   "source": []
  },
  {
   "cell_type": "code",
   "execution_count": null,
   "metadata": {},
   "outputs": [],
   "source": []
  },
  {
   "cell_type": "code",
   "execution_count": null,
   "metadata": {},
   "outputs": [],
   "source": []
  },
  {
   "cell_type": "code",
   "execution_count": null,
   "metadata": {},
   "outputs": [],
   "source": []
  },
  {
   "cell_type": "code",
   "execution_count": null,
   "metadata": {},
   "outputs": [],
   "source": []
  },
  {
   "cell_type": "code",
   "execution_count": null,
   "metadata": {},
   "outputs": [],
   "source": []
  },
  {
   "cell_type": "code",
   "execution_count": null,
   "metadata": {},
   "outputs": [],
   "source": []
  },
  {
   "cell_type": "code",
   "execution_count": null,
   "metadata": {},
   "outputs": [],
   "source": []
  },
  {
   "cell_type": "code",
   "execution_count": null,
   "metadata": {},
   "outputs": [],
   "source": []
  },
  {
   "cell_type": "code",
   "execution_count": null,
   "metadata": {},
   "outputs": [],
   "source": []
  },
  {
   "cell_type": "code",
   "execution_count": null,
   "metadata": {},
   "outputs": [],
   "source": []
  },
  {
   "cell_type": "code",
   "execution_count": null,
   "metadata": {},
   "outputs": [],
   "source": []
  }
 ],
 "metadata": {
  "kernelspec": {
   "display_name": "gnn",
   "language": "python",
   "name": "python3"
  },
  "language_info": {
   "codemirror_mode": {
    "name": "ipython",
    "version": 3
   },
   "file_extension": ".py",
   "mimetype": "text/x-python",
   "name": "python",
   "nbconvert_exporter": "python",
   "pygments_lexer": "ipython3",
   "version": "3.10.16"
  }
 },
 "nbformat": 4,
 "nbformat_minor": 2
}
